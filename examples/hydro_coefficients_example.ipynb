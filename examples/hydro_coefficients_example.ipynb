{
 "cells": [
  {
   "cell_type": "markdown",
   "metadata": {},
   "source": [
    "# Hydrodynamic Coefficients Analysis Example\n",
    "\n",
    "This notebook demonstrates the complete functionality of the hydrodynamic coefficients module including:\n",
    "- Loading coefficient data from CSV files\n",
    "- Interpolating coefficients at arbitrary frequencies\n",
    "- Validating data quality and causality\n",
    "- Creating comprehensive visualizations\n",
    "- Exporting results"
   ]
  },
  {
   "cell_type": "markdown",
   "metadata": {},
   "source": [
    "## 1. Setup and Imports"
   ]
  },
  {
   "cell_type": "code",
   "execution_count": null,
   "metadata": {},
   "outputs": [],
   "source": [
    "import numpy as np\n",
    "import pandas as pd\n",
    "import matplotlib.pyplot as plt\n",
    "from pathlib import Path\n",
    "\n",
    "# Import hydrodynamic coefficients module\n",
    "from marine_engineering.hydrodynamic_coefficients import (\n",
    "    CoefficientDatabase,\n",
    "    HydrodynamicPlotter,\n",
    "    DOF_NAMES,\n",
    "    AQWAParser\n",
    ")\n",
    "\n",
    "# Configure display\n",
    "%matplotlib inline\n",
    "plt.rcParams['figure.dpi'] = 100\n",
    "\n",
    "print(\"Imports successful!\")\n",
    "print(f\"Available DOFs: {DOF_NAMES}\")"
   ]
  },
  {
   "cell_type": "markdown",
   "metadata": {},
   "source": [
    "## 2. Load Hydrodynamic Coefficient Database"
   ]
  },
  {
   "cell_type": "code",
   "execution_count": null,
   "metadata": {},
   "outputs": [],
   "source": [
    "# Path to hydrodynamic coefficient CSV files\n",
    "data_dir = Path('../data/marine_engineering/hydrodynamic/')\n",
    "\n",
    "# Load database\n",
    "db = CoefficientDatabase.from_csv(data_dir)\n",
    "\n",
    "print(f\"Database loaded: {db}\")\n",
    "print(f\"Number of frequencies: {len(db.frequencies)}\")\n",
    "print(f\"Frequency range: {db.get_frequency_range()} rad/s\")\n",
    "\n",
    "# Display available frequencies\n",
    "print(\"\\nAvailable frequencies (rad/s):\")\n",
    "print(db.frequencies[:10], \"...\")  # First 10"
   ]
  },
  {
   "cell_type": "markdown",
   "metadata": {},
   "source": [
    "## 3. Explore Coefficient Data"
   ]
  },
  {
   "cell_type": "code",
   "execution_count": null,
   "metadata": {},
   "outputs": [],
   "source": [
    "# Get coefficient at specific frequency and DOF\n",
    "frequency = 0.5  # rad/s\n",
    "A33 = db.get_added_mass(frequency, dof_i='Heave', dof_j='Heave')\n",
    "B33 = db.get_damping(frequency, dof_i='Heave', dof_j='Heave')\n",
    "\n",
    "print(f\"At frequency {frequency} rad/s:\")\n",
    "print(f\"  Added Mass (Heave-Heave): {A33:.2f}\")\n",
    "print(f\"  Damping (Heave-Heave): {B33:.2f}\")\n",
    "\n",
    "# Get full matrices at frequency\n",
    "A_matrix = db.get_added_mass_matrix(frequency)\n",
    "B_matrix = db.get_damping_matrix(frequency)\n",
    "\n",
    "print(f\"\\nAdded Mass Matrix shape: {A_matrix.shape}\")\n",
    "print(f\"Damping Matrix shape: {B_matrix.shape}\")"
   ]
  },
  {
   "cell_type": "markdown",
   "metadata": {},
   "source": [
    "## 4. Statistical Analysis"
   ]
  },
  {
   "cell_type": "code",
   "execution_count": null,
   "metadata": {},
   "outputs": [],
   "source": [
    "# Get statistics for added mass coefficients\n",
    "stats_am = db.get_coefficient_statistics('added_mass')\n",
    "print(\"Added Mass Statistics:\")\n",
    "print(stats_am.head(10))\n",
    "\n",
    "# Get statistics for damping coefficients\n",
    "stats_damp = db.get_coefficient_statistics('damping')\n",
    "print(\"\\nDamping Statistics:\")\n",
    "print(stats_damp.head(10))"
   ]
  },
  {
   "cell_type": "markdown",
   "metadata": {},
   "source": [
    "## 5. Causality Validation (Kramers-Kronig)"
   ]
  },
  {
   "cell_type": "code",
   "execution_count": null,
   "metadata": {},
   "outputs": [],
   "source": [
    "# Validate causality for heave DOF\n",
    "is_valid, error = db.validate_causality('Heave', 'Heave', tolerance=0.2)\n",
    "\n",
    "print(f\"Kramers-Kronig Validation for Heave-Heave:\")\n",
    "print(f\"  Valid: {is_valid}\")\n",
    "print(f\"  Maximum Error: {error:.4f}\")\n",
    "\n",
    "# Validate all diagonal terms\n",
    "print(\"\\nValidation for all DOFs:\")\n",
    "for dof in DOF_NAMES:\n",
    "    is_valid, error = db.validate_causality(dof, dof, tolerance=0.2)\n",
    "    status = \"✓\" if is_valid else \"✗\"\n",
    "    print(f\"  {status} {dof}: error = {error:.4f}\")"
   ]
  },
  {
   "cell_type": "markdown",
   "metadata": {},
   "source": [
    "## 6. Visualization - Frequency Response"
   ]
  },
  {
   "cell_type": "code",
   "execution_count": null,
   "metadata": {},
   "outputs": [],
   "source": [
    "# Create plotter\n",
    "plotter = HydrodynamicPlotter(db)\n",
    "\n",
    "# Plot frequency response for Heave DOF\n",
    "fig = plotter.plot_frequency_response(\n",
    "    dof='Heave',\n",
    "    coefficient_type='both',\n",
    "    coupled=False,\n",
    "    save_path='../outputs/hydrodynamic_charts/heave_frequency_response.png',\n",
    "    figsize=(14, 6)\n",
    ")\n",
    "plt.show()\n",
    "\n",
    "print(\"Heave frequency response plotted.\")"
   ]
  },
  {
   "cell_type": "markdown",
   "metadata": {},
   "source": [
    "## 7. Visualization - Coefficient Matrix Heatmap"
   ]
  },
  {
   "cell_type": "code",
   "execution_count": null,
   "metadata": {},
   "outputs": [],
   "source": [
    "# Plot added mass matrix at specific frequency\n",
    "fig = plotter.plot_coefficient_matrix(\n",
    "    frequency=0.5,\n",
    "    coefficient_type='added_mass',\n",
    "    save_path='../outputs/hydrodynamic_charts/added_mass_matrix_heatmap.png'\n",
    ")\n",
    "plt.show()\n",
    "\n",
    "# Plot damping matrix at specific frequency\n",
    "fig = plotter.plot_coefficient_matrix(\n",
    "    frequency=0.5,\n",
    "    coefficient_type='damping',\n",
    "    save_path='../outputs/hydrodynamic_charts/damping_matrix_heatmap.png'\n",
    ")\n",
    "plt.show()\n",
    "\n",
    "print(\"Matrix heatmaps created.\")"
   ]
  },
  {
   "cell_type": "markdown",
   "metadata": {},
   "source": [
    "## 8. Visualization - 3D Surfaces"
   ]
  },
  {
   "cell_type": "code",
   "execution_count": null,
   "metadata": {},
   "outputs": [],
   "source": [
    "# Plot 3D surface for Heave added mass\n",
    "fig = plotter.plot_added_mass_surface(\n",
    "    dof_i='Heave',\n",
    "    dof_j='Heave',\n",
    "    save_path='../outputs/hydrodynamic_charts/heave_added_mass_surface.png'\n",
    ")\n",
    "plt.show()\n",
    "\n",
    "# Plot 3D surface for Heave damping\n",
    "fig = plotter.plot_damping_surface(\n",
    "    dof_i='Heave',\n",
    "    dof_j='Heave',\n",
    "    save_path='../outputs/hydrodynamic_charts/heave_damping_surface.png'\n",
    ")\n",
    "plt.show()\n",
    "\n",
    "print(\"3D surfaces created.\")"
   ]
  },
  {
   "cell_type": "markdown",
   "metadata": {},
   "source": [
    "## 9. Visualization - Cross-Coupling Terms"
   ]
  },
  {
   "cell_type": "code",
   "execution_count": null,
   "metadata": {},
   "outputs": [],
   "source": [
    "# Plot cross-coupling for added mass\n",
    "fig = plotter.plot_cross_coupling(\n",
    "    coefficient_type='added_mass',\n",
    "    threshold=50.0,\n",
    "    save_path='../outputs/hydrodynamic_charts/added_mass_cross_coupling.png'\n",
    ")\n",
    "plt.show()\n",
    "\n",
    "# Plot cross-coupling for damping\n",
    "fig = plotter.plot_cross_coupling(\n",
    "    coefficient_type='damping',\n",
    "    threshold=0.1,\n",
    "    save_path='../outputs/hydrodynamic_charts/damping_cross_coupling.png'\n",
    ")\n",
    "plt.show()\n",
    "\n",
    "print(\"Cross-coupling plots created.\")"
   ]
  },
  {
   "cell_type": "markdown",
   "metadata": {},
   "source": [
    "## 10. Visualization - Critical Damping Ratios"
   ]
  },
  {
   "cell_type": "code",
   "execution_count": null,
   "metadata": {},
   "outputs": [],
   "source": [
    "# Define system properties (example values)\n",
    "mass_matrix = np.diag([10000, 10000, 10000, 1000, 1000, 1000])\n",
    "stiffness_matrix = np.diag([50000, 50000, 50000, 5000, 5000, 5000])\n",
    "\n",
    "# Plot critical damping ratios\n",
    "fig = plotter.plot_critical_damping(\n",
    "    mass_matrix=mass_matrix,\n",
    "    stiffness_matrix=stiffness_matrix,\n",
    "    save_path='../outputs/hydrodynamic_charts/critical_damping_ratios.png'\n",
    ")\n",
    "plt.show()\n",
    "\n",
    "print(\"Critical damping ratios plotted.\")"
   ]
  },
  {
   "cell_type": "markdown",
   "metadata": {},
   "source": [
    "## 11. Visualization - Coefficient Correlation"
   ]
  },
  {
   "cell_type": "code",
   "execution_count": null,
   "metadata": {},
   "outputs": [],
   "source": [
    "# Plot correlation matrix for added mass\n",
    "fig = plotter.plot_matrix_correlation(\n",
    "    coefficient_type='added_mass',\n",
    "    save_path='../outputs/hydrodynamic_charts/added_mass_correlation.png'\n",
    ")\n",
    "plt.show()\n",
    "\n",
    "print(\"Correlation matrix created.\")"
   ]
  },
  {
   "cell_type": "markdown",
   "metadata": {},
   "source": [
    "## 12. Visualization - All DOFs Comparison"
   ]
  },
  {
   "cell_type": "code",
   "execution_count": null,
   "metadata": {},
   "outputs": [],
   "source": [
    "# Compare all DOFs for added mass\n",
    "fig = plotter.plot_all_dofs_comparison(\n",
    "    coefficient_type='added_mass',\n",
    "    save_path='../outputs/hydrodynamic_charts/all_dofs_added_mass.png'\n",
    ")\n",
    "plt.show()\n",
    "\n",
    "# Compare all DOFs for damping\n",
    "fig = plotter.plot_all_dofs_comparison(\n",
    "    coefficient_type='damping',\n",
    "    save_path='../outputs/hydrodynamic_charts/all_dofs_damping.png'\n",
    ")\n",
    "plt.show()\n",
    "\n",
    "print(\"All DOFs comparison created.\")"
   ]
  },
  {
   "cell_type": "markdown",
   "metadata": {},
   "source": [
    "## 13. Create Animated Frequency Sweep"
   ]
  },
  {
   "cell_type": "code",
   "execution_count": null,
   "metadata": {},
   "outputs": [],
   "source": [
    "# Create animation for added mass matrix evolution\n",
    "plotter.animate_frequency_sweep(\n",
    "    coefficient_type='added_mass',\n",
    "    save_path='../outputs/hydrodynamic_charts/added_mass_animation.gif',\n",
    "    fps=5\n",
    ")\n",
    "\n",
    "print(\"Animation created: added_mass_animation.gif\")"
   ]
  },
  {
   "cell_type": "markdown",
   "metadata": {},
   "source": [
    "## 14. Export Results"
   ]
  },
  {
   "cell_type": "code",
   "execution_count": null,
   "metadata": {},
   "outputs": [],
   "source": [
    "# Export coefficient data to new directory\n",
    "export_dir = Path('../outputs/exported_coefficients/')\n",
    "db.export_to_csv(export_dir)\n",
    "\n",
    "print(f\"Coefficients exported to: {export_dir}\")\n",
    "\n",
    "# Export statistics to Excel\n",
    "stats_am = db.get_coefficient_statistics('added_mass')\n",
    "stats_damp = db.get_coefficient_statistics('damping')\n",
    "\n",
    "with pd.ExcelWriter('../outputs/coefficient_statistics.xlsx') as writer:\n",
    "    stats_am.to_excel(writer, sheet_name='Added Mass', index=False)\n",
    "    stats_damp.to_excel(writer, sheet_name='Damping', index=False)\n",
    "\n",
    "print(\"Statistics exported to: coefficient_statistics.xlsx\")"
   ]
  },
  {
   "cell_type": "markdown",
   "metadata": {},
   "source": [
    "## 15. Advanced Example: Frequency Response Analysis"
   ]
  },
  {
   "cell_type": "code",
   "execution_count": null,
   "metadata": {},
   "outputs": [],
   "source": [
    "# Analyze frequency response for specific DOF with coupling\n",
    "fig = plotter.plot_frequency_response(\n",
    "    dof='Pitch',\n",
    "    coefficient_type='both',\n",
    "    coupled=True,  # Show all coupling terms\n",
    "    save_path='../outputs/hydrodynamic_charts/pitch_coupled_response.png',\n",
    "    figsize=(16, 7)\n",
    ")\n",
    "plt.show()\n",
    "\n",
    "print(\"Coupled frequency response created.\")"
   ]
  },
  {
   "cell_type": "markdown",
   "metadata": {},
   "source": [
    "## 16. Summary Report"
   ]
  },
  {
   "cell_type": "code",
   "execution_count": null,
   "metadata": {},
   "outputs": [],
   "source": [
    "# Generate summary report\n",
    "freq_min, freq_max = db.get_frequency_range()\n",
    "\n",
    "print(\"=\" * 60)\n",
    "print(\"HYDRODYNAMIC COEFFICIENTS ANALYSIS SUMMARY\")\n",
    "print(\"=\" * 60)\n",
    "print(f\"\\nDatabase Information:\")\n",
    "print(f\"  Number of frequencies: {len(db.frequencies)}\")\n",
    "print(f\"  Frequency range: {freq_min:.3f} - {freq_max:.3f} rad/s\")\n",
    "print(f\"  Period range: {2*np.pi/freq_max:.2f} - {2*np.pi/freq_min:.2f} s\")\n",
    "\n",
    "print(f\"\\nAvailable Matrices:\")\n",
    "print(f\"  Added Mass matrices: {len(db.added_mass_matrices)}\")\n",
    "print(f\"  Damping matrices: {len(db.damping_matrices)}\")\n",
    "\n",
    "print(f\"\\nGenerated Visualizations:\")\n",
    "print(f\"  ✓ Frequency response plots\")\n",
    "print(f\"  ✓ Matrix heatmaps\")\n",
    "print(f\"  ✓ 3D surface plots\")\n",
    "print(f\"  ✓ Cross-coupling analysis\")\n",
    "print(f\"  ✓ Critical damping ratios\")\n",
    "print(f\"  ✓ Correlation matrices\")\n",
    "print(f\"  ✓ All DOFs comparison\")\n",
    "print(f\"  ✓ Animated frequency sweep\")\n",
    "\n",
    "print(f\"\\nOutput Directory: ../outputs/hydrodynamic_charts/\")\n",
    "print(\"=\" * 60)"
   ]
  }
 ],
 "metadata": {
  "kernelspec": {
   "display_name": "Python 3",
   "language": "python",
   "name": "python3"
  },
  "language_info": {
   "codemirror_mode": {
    "name": "ipython",
    "version": 3
   },
   "file_extension": ".py",
   "mimetype": "text/x-python",
   "name": "python",
   "nbconvert_exporter": "python",
   "pygments_lexer": "ipython3",
   "version": "3.11.0"
  }
 },
 "nbformat": 4,
 "nbformat_minor": 4
}
