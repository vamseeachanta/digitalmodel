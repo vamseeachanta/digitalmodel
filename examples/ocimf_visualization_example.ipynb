{
 "cells": [
  {
   "cell_type": "markdown",
   "metadata": {},
   "source": [
    "# OCIMF Environmental Loading - Interactive Visualization Example\n",
    "\n",
    "This notebook demonstrates the OCIMF Environmental Loading module with comprehensive charting capabilities.\n",
    "\n",
    "## Features Demonstrated:\n",
    "- Loading OCIMF coefficient database\n",
    "- 2D interpolation of coefficients\n",
    "- 3D surface plots\n",
    "- Polar force diagrams\n",
    "- Force vector visualizations\n",
    "- Validation charts\n",
    "- Interactive plotly charts"
   ]
  },
  {
   "cell_type": "code",
   "execution_count": null,
   "metadata": {},
   "outputs": [],
   "source": [
    "# Import required libraries\n",
    "import sys\n",
    "from pathlib import Path\n",
    "import numpy as np\n",
    "import pandas as pd\n",
    "import matplotlib.pyplot as plt\n",
    "import seaborn as sns\n",
    "\n",
    "# Add src to path if running from examples directory\n",
    "project_root = Path.cwd().parent\n",
    "sys.path.insert(0, str(project_root / 'src'))\n",
    "\n",
    "from marine_engineering.environmental_loading import (\n",
    "    OCIMFDatabase,\n",
    "    EnvironmentalForces,\n",
    "    EnvironmentalConditions,\n",
    "    VesselGeometry,\n",
    "    create_sample_database,\n",
    ")\n",
    "\n",
    "# Set style\n",
    "plt.style.use('seaborn-v0_8-darkgrid')\n",
    "sns.set_palette('husl')\n",
    "\n",
    "print(\"Imports successful!\")"
   ]
  },
  {
   "cell_type": "markdown",
   "metadata": {},
   "source": [
    "## 1. Create Sample OCIMF Database\n",
    "\n",
    "First, we'll create a sample database with multiple vessel types and loading conditions."
   ]
  },
  {
   "cell_type": "code",
   "execution_count": null,
   "metadata": {},
   "outputs": [],
   "source": [
    "# Create sample database\n",
    "db_path = project_root / 'data' / 'ocimf' / 'ocimf_coefficients_sample.csv'\n",
    "db_path.parent.mkdir(parents=True, exist_ok=True)\n",
    "\n",
    "if not db_path.exists():\n",
    "    create_sample_database(\n",
    "        str(db_path),\n",
    "        num_vessels=5,\n",
    "        num_headings=13,\n",
    "        num_displacements=3\n",
    "    )\n",
    "\n",
    "# Load database\n",
    "db = OCIMFDatabase(str(db_path))\n",
    "\n",
    "print(f\"Database loaded: {len(db.data)} entries\")\n",
    "print(f\"Vessel types: {db.data['vessel_type'].unique()}\")\n",
    "print(f\"Heading range: {db.headings.min():.0f}° - {db.headings.max():.0f}°\")\n",
    "print(f\"Displacement range: {db.displacements.min():,.0f} - {db.displacements.max():,.0f} tonnes\")\n",
    "\n",
    "# Preview data\n",
    "db.data.head(10)"
   ]
  },
  {
   "cell_type": "markdown",
   "metadata": {},
   "source": [
    "## 2. Coefficient Interpolation\n",
    "\n",
    "Demonstrate 2D interpolation for arbitrary heading and displacement values."
   ]
  },
  {
   "cell_type": "code",
   "execution_count": null,
   "metadata": {},
   "outputs": [],
   "source": [
    "# Test interpolation at various points\n",
    "test_cases = [\n",
    "    (0, 250000, \"Head-on, VLCC\"),\n",
    "    (45, 275000, \"Quartering, VLCC (interpolated)\"),\n",
    "    (90, 300000, \"Beam, VLCC\"),\n",
    "    (135, 250000, \"Stern quarter, VLCC\"),\n",
    "    (45, 150000, \"Quartering, Suezmax\"),\n",
    "]\n",
    "\n",
    "results_df = []\n",
    "for heading, displacement, description in test_cases:\n",
    "    coeffs = db.get_coefficients(heading, displacement)\n",
    "    results_df.append({\n",
    "        'Description': description,\n",
    "        'Heading (°)': heading,\n",
    "        'Displacement (t)': f\"{displacement:,}\",\n",
    "        'CXw': f\"{coeffs.CXw:.3f}\",\n",
    "        'CYw': f\"{coeffs.CYw:.3f}\",\n",
    "        'CMw': f\"{coeffs.CMw:.3f}\",\n",
    "        'CXc': f\"{coeffs.CXc:.3f}\",\n",
    "        'CYc': f\"{coeffs.CYc:.3f}\",\n",
    "        'CMc': f\"{coeffs.CMc:.3f}\",\n",
    "    })\n",
    "\n",
    "pd.DataFrame(results_df)"
   ]
  },
  {
   "cell_type": "markdown",
   "metadata": {},
   "source": [
    "## 3. 3D Surface Plots\n",
    "\n",
    "Visualize how coefficients vary with heading and displacement."
   ]
  },
  {
   "cell_type": "code",
   "execution_count": null,
   "metadata": {},
   "outputs": [],
   "source": [
    "# Create output directory for charts\n",
    "output_dir = project_root / 'examples' / 'outputs' / 'ocimf_charts'\n",
    "output_dir.mkdir(parents=True, exist_ok=True)\n",
    "\n",
    "# Generate 3D surface plots for key coefficients\n",
    "coefficients_to_plot = ['CXw', 'CYw', 'CMw', 'CXc', 'CYc', 'CMc']\n",
    "\n",
    "for coef in coefficients_to_plot[:3]:  # Wind coefficients first\n",
    "    print(f\"Generating 3D surface plot for {coef}...\")\n",
    "    db.plot_coefficient_surface(\n",
    "        coef,\n",
    "        save_path=str(output_dir / f\"surface_{coef}.png\"),\n",
    "        interactive=False\n",
    "    )\n",
    "    \n",
    "print(\"\\n3D surface plots saved to:\", output_dir)"
   ]
  },
  {
   "cell_type": "code",
   "execution_count": null,
   "metadata": {},
   "outputs": [],
   "source": [
    "# Display one of the generated plots\n",
    "from IPython.display import Image, display\n",
    "\n",
    "display(Image(filename=str(output_dir / 'surface_CYw.png')))"
   ]
  },
  {
   "cell_type": "markdown",
   "metadata": {},
   "source": [
    "## 4. Polar Diagrams\n",
    "\n",
    "Show wind force coefficients as polar plots for different vessel displacements."
   ]
  },
  {
   "cell_type": "code",
   "execution_count": null,
   "metadata": {},
   "outputs": [],
   "source": [
    "# Generate polar diagrams for different displacements\n",
    "displacements_to_plot = [250000, 300000, 150000]\n",
    "\n",
    "for disp in displacements_to_plot:\n",
    "    print(f\"Generating polar diagram for {disp:,} tonnes...\")\n",
    "    db.plot_polar_diagram(\n",
    "        displacement=disp,\n",
    "        save_path=str(output_dir / f\"polar_{disp}.png\")\n",
    "    )\n",
    "\n",
    "print(\"\\nPolar diagrams saved to:\", output_dir)"
   ]
  },
  {
   "cell_type": "code",
   "execution_count": null,
   "metadata": {},
   "outputs": [],
   "source": [
    "# Display polar diagram\n",
    "display(Image(filename=str(output_dir / 'polar_250000.png')))"
   ]
  },
  {
   "cell_type": "markdown",
   "metadata": {},
   "source": [
    "## 5. Interpolation Quality Analysis\n",
    "\n",
    "Evaluate the quality of interpolation by comparing database points with interpolated surface."
   ]
  },
  {
   "cell_type": "code",
   "execution_count": null,
   "metadata": {},
   "outputs": [],
   "source": [
    "# Generate interpolation quality heatmaps\n",
    "for coef in ['CYw', 'CXw']:\n",
    "    print(f\"Generating interpolation quality heatmap for {coef}...\")\n",
    "    db.plot_interpolation_quality(\n",
    "        coefficient_name=coef,\n",
    "        save_path=str(output_dir / f\"interp_quality_{coef}.png\")\n",
    "    )\n",
    "\n",
    "display(Image(filename=str(output_dir / 'interp_quality_CYw.png')))"
   ]
  },
  {
   "cell_type": "markdown",
   "metadata": {},
   "source": [
    "## 6. Environmental Force Calculations\n",
    "\n",
    "Calculate actual forces on a vessel under specific environmental conditions."
   ]
  },
  {
   "cell_type": "code",
   "execution_count": null,
   "metadata": {},
   "outputs": [],
   "source": [
    "# Create force calculator\n",
    "calc = EnvironmentalForces(db)\n",
    "\n",
    "# Define environmental conditions\n",
    "conditions = EnvironmentalConditions(\n",
    "    wind_speed=25.0,  # m/s (about 49 knots - severe storm)\n",
    "    wind_direction=60.0,  # degrees (quartering wind)\n",
    "    current_speed=2.0,  # m/s (about 4 knots - strong current)\n",
    "    current_direction=45.0,  # degrees\n",
    "    air_density=1.225,  # kg/m³\n",
    "    water_density=1025.0  # kg/m³\n",
    ")\n",
    "\n",
    "# Define vessel geometry (VLCC)\n",
    "geometry = VesselGeometry(\n",
    "    loa=330.0,  # meters\n",
    "    beam=60.0,  # meters\n",
    "    draft=22.0  # meters\n",
    ")\n",
    "\n",
    "displacement = 300000  # tonnes\n",
    "\n",
    "# Calculate forces\n",
    "results = calc.calculate_total_forces(conditions, geometry, displacement)\n",
    "\n",
    "# Display results\n",
    "print(\"=\"*60)\n",
    "print(\"ENVIRONMENTAL FORCE CALCULATION RESULTS\")\n",
    "print(\"=\"*60)\n",
    "print(f\"\\nVessel: VLCC, {displacement:,} tonnes\")\n",
    "print(f\"LOA: {geometry.loa}m, Beam: {geometry.beam}m, Draft: {geometry.draft}m\")\n",
    "print(f\"\\nConditions:\")\n",
    "print(f\"  Wind: {conditions.wind_speed} m/s @ {conditions.wind_direction}°\")\n",
    "print(f\"  Current: {conditions.current_speed} m/s @ {conditions.current_direction}°\")\n",
    "print(f\"\\nWind Forces:\")\n",
    "print(f\"  Fx (Longitudinal): {results.wind_fx/1e3:>10.1f} kN\")\n",
    "print(f\"  Fy (Lateral):      {results.wind_fy/1e3:>10.1f} kN\")\n",
    "print(f\"  Mz (Yaw):          {results.wind_mz/1e6:>10.1f} MN·m\")\n",
    "print(f\"\\nCurrent Forces:\")\n",
    "print(f\"  Fx (Longitudinal): {results.current_fx/1e3:>10.1f} kN\")\n",
    "print(f\"  Fy (Lateral):      {results.current_fy/1e3:>10.1f} kN\")\n",
    "print(f\"  Mz (Yaw):          {results.current_mz/1e6:>10.1f} MN·m\")\n",
    "print(f\"\\nTotal Forces:\")\n",
    "print(f\"  Fx (Longitudinal): {results.total_fx/1e3:>10.1f} kN\")\n",
    "print(f\"  Fy (Lateral):      {results.total_fy/1e3:>10.1f} kN\")\n",
    "print(f\"  Mz (Yaw):          {results.total_mz/1e6:>10.1f} MN·m\")\n",
    "print(f\"\\nResultant Force:   {np.sqrt(results.total_fx**2 + results.total_fy**2)/1e3:>10.1f} kN\")\n",
    "print(f\"Force Angle:       {np.degrees(np.arctan2(results.total_fy, results.total_fx)):>10.1f}°\")\n",
    "print(\"=\"*60)"
   ]
  },
  {
   "cell_type": "markdown",
   "metadata": {},
   "source": [
    "## 7. Force Vector Diagram\n",
    "\n",
    "Visualize the force components as vectors."
   ]
  },
  {
   "cell_type": "code",
   "execution_count": null,
   "metadata": {},
   "outputs": [],
   "source": [
    "# Generate force diagram\n",
    "calc.plot_force_diagram(\n",
    "    results,\n",
    "    save_path=str(output_dir / 'force_diagram.png')\n",
    ")\n",
    "\n",
    "display(Image(filename=str(output_dir / 'force_diagram.png')))"
   ]
  },
  {
   "cell_type": "markdown",
   "metadata": {},
   "source": [
    "## 8. Parametric Study: Wind Speed Variation\n",
    "\n",
    "Analyze how forces change with varying wind speeds."
   ]
  },
  {
   "cell_type": "code",
   "execution_count": null,
   "metadata": {},
   "outputs": [],
   "source": [
    "# Parametric study: wind speed variation\n",
    "wind_speeds = np.linspace(5, 35, 15)  # 5 to 35 m/s\n",
    "fx_values = []\n",
    "fy_values = []\n",
    "mz_values = []\n",
    "\n",
    "for ws in wind_speeds:\n",
    "    cond = EnvironmentalConditions(\n",
    "        wind_speed=ws,\n",
    "        wind_direction=60.0,\n",
    "        current_speed=2.0,\n",
    "        current_direction=45.0\n",
    "    )\n",
    "    res = calc.calculate_total_forces(cond, geometry, displacement)\n",
    "    fx_values.append(res.total_fx / 1e3)\n",
    "    fy_values.append(res.total_fy / 1e3)\n",
    "    mz_values.append(res.total_mz / 1e6)\n",
    "\n",
    "# Plot results\n",
    "fig, (ax1, ax2) = plt.subplots(1, 2, figsize=(14, 5))\n",
    "\n",
    "ax1.plot(wind_speeds, fx_values, 'b-o', linewidth=2, markersize=6, label='Fx (Longitudinal)')\n",
    "ax1.plot(wind_speeds, fy_values, 'r-s', linewidth=2, markersize=6, label='Fy (Lateral)')\n",
    "ax1.set_xlabel('Wind Speed (m/s)', fontsize=11)\n",
    "ax1.set_ylabel('Force (kN)', fontsize=11)\n",
    "ax1.set_title('Total Force vs Wind Speed', fontsize=12)\n",
    "ax1.legend(fontsize=9)\n",
    "ax1.grid(True, alpha=0.3)\n",
    "\n",
    "ax2.plot(wind_speeds, mz_values, 'g-^', linewidth=2, markersize=6)\n",
    "ax2.set_xlabel('Wind Speed (m/s)', fontsize=11)\n",
    "ax2.set_ylabel('Moment (MN·m)', fontsize=11)\n",
    "ax2.set_title('Yaw Moment vs Wind Speed', fontsize=12)\n",
    "ax2.grid(True, alpha=0.3)\n",
    "\n",
    "plt.tight_layout()\n",
    "plt.savefig(output_dir / 'parametric_wind_speed.png', dpi=300, bbox_inches='tight')\n",
    "plt.show()"
   ]
  },
  {
   "cell_type": "markdown",
   "metadata": {},
   "source": [
    "## 9. Validation Against Excel\n",
    "\n",
    "Compare Python calculations with Excel reference values."
   ]
  },
  {
   "cell_type": "code",
   "execution_count": null,
   "metadata": {},
   "outputs": [],
   "source": [
    "# Simulate Excel results (would normally come from Excel file)\n",
    "# Adding small differences for demonstration\n",
    "excel_results = {\n",
    "    'wind_fx': results.wind_fx * 1.02,      # 2% difference\n",
    "    'wind_fy': results.wind_fy * 0.98,      # -2% difference\n",
    "    'wind_mz': results.wind_mz * 1.01,      # 1% difference\n",
    "    'current_fx': results.current_fx * 1.03,  # 3% difference\n",
    "    'current_fy': results.current_fy * 0.97,  # -3% difference\n",
    "    'current_mz': results.current_mz * 1.02   # 2% difference\n",
    "}\n",
    "\n",
    "# Generate validation chart\n",
    "calc.plot_validation_chart(\n",
    "    excel_results,\n",
    "    results,\n",
    "    save_path=str(output_dir / 'validation_chart.png')\n",
    ")\n",
    "\n",
    "display(Image(filename=str(output_dir / 'validation_chart.png')))"
   ]
  },
  {
   "cell_type": "markdown",
   "metadata": {},
   "source": [
    "## 10. Multi-Vessel Comparison\n",
    "\n",
    "Compare forces on different vessel types under the same conditions."
   ]
  },
  {
   "cell_type": "code",
   "execution_count": null,
   "metadata": {},
   "outputs": [],
   "source": [
    "# Define different vessel types\n",
    "vessels = [\n",
    "    {'name': 'VLCC', 'loa': 330, 'beam': 60, 'draft': 22, 'disp': 300000},\n",
    "    {'name': 'Suezmax', 'loa': 275, 'beam': 48, 'draft': 16, 'disp': 180000},\n",
    "    {'name': 'Aframax', 'loa': 245, 'beam': 42, 'draft': 14, 'disp': 120000},\n",
    "]\n",
    "\n",
    "comparison_results = []\n",
    "\n",
    "for vessel in vessels:\n",
    "    geom = VesselGeometry(loa=vessel['loa'], beam=vessel['beam'], draft=vessel['draft'])\n",
    "    res = calc.calculate_total_forces(conditions, geom, vessel['disp'])\n",
    "    \n",
    "    comparison_results.append({\n",
    "        'Vessel': vessel['name'],\n",
    "        'Displacement (t)': f\"{vessel['disp']:,}\",\n",
    "        'LOA (m)': vessel['loa'],\n",
    "        'Total Fx (kN)': f\"{res.total_fx/1e3:.1f}\",\n",
    "        'Total Fy (kN)': f\"{res.total_fy/1e3:.1f}\",\n",
    "        'Total Mz (MN·m)': f\"{res.total_mz/1e6:.1f}\",\n",
    "        'Resultant (kN)': f\"{np.sqrt(res.total_fx**2 + res.total_fy**2)/1e3:.1f}\"\n",
    "    })\n",
    "\n",
    "comparison_df = pd.DataFrame(comparison_results)\n",
    "print(\"\\nMulti-Vessel Force Comparison\")\n",
    "print(\"=\"*80)\n",
    "comparison_df"
   ]
  },
  {
   "cell_type": "code",
   "execution_count": null,
   "metadata": {},
   "outputs": [],
   "source": [
    "# Visualize comparison\n",
    "fig, ax = plt.subplots(figsize=(10, 6))\n",
    "\n",
    "vessel_names = [v['name'] for v in vessels]\n",
    "fx_vals = [float(r['Total Fx (kN)']) for r in comparison_results]\n",
    "fy_vals = [float(r['Total Fy (kN)']) for r in comparison_results]\n",
    "mz_vals = [float(r['Total Mz (MN·m)']) for r in comparison_results]\n",
    "\n",
    "x = np.arange(len(vessel_names))\n",
    "width = 0.25\n",
    "\n",
    "ax.bar(x - width, fx_vals, width, label='Fx (Long.)', alpha=0.8)\n",
    "ax.bar(x, fy_vals, width, label='Fy (Lat.)', alpha=0.8)\n",
    "ax.bar(x + width, [m*1000 for m in mz_vals], width, label='Mz (kN·m)', alpha=0.8)\n",
    "\n",
    "ax.set_ylabel('Force (kN)', fontsize=11)\n",
    "ax.set_title('Environmental Forces Comparison by Vessel Type', fontsize=12)\n",
    "ax.set_xticks(x)\n",
    "ax.set_xticklabels(vessel_names)\n",
    "ax.legend(fontsize=9)\n",
    "ax.grid(True, alpha=0.3, axis='y')\n",
    "\n",
    "plt.tight_layout()\n",
    "plt.savefig(output_dir / 'vessel_comparison.png', dpi=300, bbox_inches='tight')\n",
    "plt.show()"
   ]
  },
  {
   "cell_type": "markdown",
   "metadata": {},
   "source": [
    "## Summary\n",
    "\n",
    "This notebook has demonstrated:\n",
    "\n",
    "1. ✅ Loading and managing OCIMF coefficient databases\n",
    "2. ✅ 2D interpolation for arbitrary heading/displacement values\n",
    "3. ✅ 3D surface visualization of coefficient distributions\n",
    "4. ✅ Polar diagrams for wind force coefficients\n",
    "5. ✅ Interpolation quality assessment\n",
    "6. ✅ Environmental force calculations (wind + current)\n",
    "7. ✅ Force vector diagrams\n",
    "8. ✅ Parametric studies (wind speed variation)\n",
    "9. ✅ Validation charts (Python vs Excel)\n",
    "10. ✅ Multi-vessel comparisons\n",
    "\n",
    "All generated charts are saved to: `examples/outputs/ocimf_charts/`"
   ]
  },
  {
   "cell_type": "code",
   "execution_count": null,
   "metadata": {},
   "outputs": [],
   "source": [
    "# List all generated charts\n",
    "import os\n",
    "\n",
    "print(\"\\nGenerated Charts:\")\n",
    "print(\"=\"*60)\n",
    "for file in sorted(output_dir.glob('*.png')):\n",
    "    size_kb = file.stat().st_size / 1024\n",
    "    print(f\"  {file.name:<40} ({size_kb:>6.1f} KB)\")\n",
    "print(\"=\"*60)"
   ]
  }
 ],
 "metadata": {
  "kernelspec": {
   "display_name": "Python 3",
   "language": "python",
   "name": "python3"
  },
  "language_info": {
   "codemirror_mode": {
    "name": "ipython",
    "version": 3
   },
   "file_extension": ".py",
   "mimetype": "text/x-python",
   "name": "python",
   "nbconvert_exporter": "python",
   "pygments_lexer": "ipython3",
   "version": "3.11.0"
  }
 },
 "nbformat": 4,
 "nbformat_minor": 4
}
